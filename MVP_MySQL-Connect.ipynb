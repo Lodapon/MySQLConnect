{
 "cells": [
  {
   "cell_type": "code",
   "execution_count": 27,
   "metadata": {},
   "outputs": [],
   "source": [
    "#Import neccessary Lib\n",
    "\n",
    "#SQL Lib\n",
    "import mysql.connector as mysql\n",
    "import pymysql\n",
    "\n",
    "#Time Lib\n",
    "import datetime"
   ]
  },
  {
   "cell_type": "code",
   "execution_count": 2,
   "metadata": {},
   "outputs": [
    {
     "name": "stdout",
     "output_type": "stream",
     "text": [
      "<pymysql.connections.Connection object at 0x111364630>\n"
     ]
    }
   ],
   "source": [
    "#Connect to SQL\n",
    "db = pymysql.connect(\n",
    "  host=\"127.0.0.1\",\n",
    "  user=\"root\",\n",
    "  passwd=\"password\"\n",
    ")\n",
    "\n",
    "print(db)"
   ]
  },
  {
   "cell_type": "code",
   "execution_count": 12,
   "metadata": {},
   "outputs": [
    {
     "data": {
      "text/plain": [
       "1"
      ]
     },
     "execution_count": 12,
     "metadata": {},
     "output_type": "execute_result"
    }
   ],
   "source": [
    "## creating an instance of 'cursor' class which is used to execute the 'SQL' statements in 'Python'\n",
    "cursor = db.cursor()\n",
    "\n",
    "## creating a databse called 'datacamp'\n",
    "## 'execute()' method is used to compile a 'SQL' statement\n",
    "## below statement is used to create tha 'datacamp' database\n",
    "cursor.execute(\"CREATE DATABASE run\")"
   ]
  },
  {
   "cell_type": "code",
   "execution_count": 28,
   "metadata": {},
   "outputs": [],
   "source": [
    "#Connect to DB name 'run'\n",
    "db = pymysql.connect(\n",
    "  host=\"127.0.0.1\",\n",
    "  user=\"root\",\n",
    "  passwd=\"password\",\n",
    "  db=\"run\"\n",
    ")\n",
    "\n",
    "cursor = db.cursor()"
   ]
  },
  {
   "cell_type": "code",
   "execution_count": 5,
   "metadata": {},
   "outputs": [
    {
     "name": "stdout",
     "output_type": "stream",
     "text": [
      "1   Hello World\n",
      "2   MySQL Example\n",
      "3   Flask Example\n",
      "4   pythonspot\n"
     ]
    }
   ],
   "source": [
    "#examples is create by SQLWorkbench\n",
    "#Here is some example for examples table\n",
    "\n",
    "## creating an instance of 'cursor' class which is used to execute the 'SQL' statements in 'Python'\n",
    "cursor = db.cursor()\n",
    "\n",
    "# Select data from table using SQL query.\n",
    "cursor.execute(\"SELECT * FROM examples\")\n",
    " \n",
    "# print the first and second columns      \n",
    "for row in cursor.fetchall() :\n",
    "    print(row[0], \" \", row[1])"
   ]
  },
  {
   "cell_type": "code",
   "execution_count": 19,
   "metadata": {},
   "outputs": [
    {
     "data": {
      "text/plain": [
       "0"
      ]
     },
     "execution_count": 19,
     "metadata": {},
     "output_type": "execute_result"
    }
   ],
   "source": [
    "#Create Table\n",
    "cursor.execute(\"CREATE TABLE Rec (Timestamp VARCHAR(255), img VARCHAR(255) , Text VARCHAR(255), TagRemark VARCHAR(255))\")"
   ]
  },
  {
   "cell_type": "code",
   "execution_count": 9,
   "metadata": {},
   "outputs": [
    {
     "name": "stdout",
     "output_type": "stream",
     "text": [
      "('Rec',)\n",
      "('examples',)\n"
     ]
    }
   ],
   "source": [
    "#Show Tables\n",
    "cursor.execute(\"SHOW TABLES\")\n",
    "\n",
    "for x in cursor:\n",
    "  print(x)"
   ]
  },
  {
   "cell_type": "code",
   "execution_count": 24,
   "metadata": {},
   "outputs": [],
   "source": [
    "timestamp = datetime.datetime.now()\n",
    "path = 'Desktop/python/jupyter/txt-e.jpg'\n",
    "txt = 'intania93'\n",
    "mark = 'test4'\n",
    "\n",
    "cursor.execute(\"\"\"INSERT into Rec (Timestamp, img, Text, TagRemark) values(%s,%s,%s,%s)\"\"\",(timestamp,path,txt,mark))\n",
    "db.commit()"
   ]
  },
  {
   "cell_type": "code",
   "execution_count": 33,
   "metadata": {},
   "outputs": [],
   "source": [
    "path_1 = \"Desktop/python/jupyter/txt-x.jpg\"\n",
    "path_2 = \"Desktop/python/jupyter/txt-y.jpg\"\n",
    "path_3 = \"Desktop/python/jupyter/txt-z.jpg\"\n",
    "pathlist = [path_1, path_2, path_3]\n",
    "#timestamp = '06.02.50'\n",
    "timestamp = datetime.datetime.now()\n",
    "txt1 = \"intania90\"\n",
    "txt2 = \"intania91\"\n",
    "txt3 = \"intania92\"\n",
    "txtlist = [txt1,txt2,txt3]\n",
    "mark = 'test_pathlist'\n",
    "\n",
    "cursor.execute(\"\"\"INSERT into Rec (Timestamp, img, Text, TagRemark) values(%s,%r,%r,%s)\"\"\",(timestamp,tuple(pathlist),tuple(txtlist),mark))\n",
    "db.commit()"
   ]
  },
  {
   "cell_type": "code",
   "execution_count": 34,
   "metadata": {},
   "outputs": [
    {
     "name": "stdout",
     "output_type": "stream",
     "text": [
      "05.55.05   Desktop/python/jupyter/txt2.jpg   intania92   test\n",
      "06.42.22   Desktop/python/jupyter/txt-a.jpg   intania92   1st\n",
      "06.02.33   Desktop/python/jupyter/txt-a.jpg   intania   test\n",
      "07.23.32   Desktop/python/jupyter/txt-b.jpg   intania92   test2\n",
      "06.02.50   Desktop/python/jupyter/txt-c.jpg   intania93   test2\n",
      "06.02.50   ('HELLO','ADIOS','WTF')   intania93   test2\n",
      "06.02.50   ('Desktop/python/jupyter/txt-a.jpg','Desktop/python/jupyter/txt-b.jpg','Desktop/python/jupyter/txt-c.jpg')   intania93   test_pathlist\n",
      "19:18:43.711930   Desktop/python/jupyter/txt-d.jpg   intania93   test3\n",
      "2019-03-25 19:19:21.695415   Desktop/python/jupyter/txt-e.jpg   intania93   test4\n",
      "2019-03-25 21:28:27.358089   ('Desktop/python/jupyter/txt-x.jpg','Desktop/python/jupyter/txt-y.jpg','Desktop/python/jupyter/txt-z.jpg')   intania93   test_pathlist\n",
      "2019-03-25 21:29:17.803098   ('Desktop/python/jupyter/txt-x.jpg','Desktop/python/jupyter/txt-y.jpg','Desktop/python/jupyter/txt-z.jpg')   ('intania90','intania91','intania92')   test_pathlist\n"
     ]
    }
   ],
   "source": [
    "# Select data from table using SQL query.\n",
    "cursor.execute(\"SELECT * FROM Rec\")\n",
    " \n",
    "# print the first and second columns      \n",
    "for row in cursor.fetchall() :\n",
    "    print(row[0], \" \", row[1], \" \", row[2], \" \", row[3])"
   ]
  },
  {
   "cell_type": "code",
   "execution_count": 61,
   "metadata": {},
   "outputs": [],
   "source": []
  },
  {
   "cell_type": "code",
   "execution_count": 12,
   "metadata": {},
   "outputs": [],
   "source": []
  },
  {
   "cell_type": "code",
   "execution_count": null,
   "metadata": {},
   "outputs": [],
   "source": []
  },
  {
   "cell_type": "code",
   "execution_count": null,
   "metadata": {},
   "outputs": [],
   "source": []
  },
  {
   "cell_type": "code",
   "execution_count": null,
   "metadata": {},
   "outputs": [],
   "source": []
  },
  {
   "cell_type": "code",
   "execution_count": 20,
   "metadata": {},
   "outputs": [
    {
     "name": "stdout",
     "output_type": "stream",
     "text": [
      "('05.55.05', 'Desktop/python/jupyter/txt2.jpg')\n",
      "('06.42.22', 'Desktop/python/jupyter/txt-a.jpg')\n",
      "('06.02.33', 'Desktop/python/jupyter/txt-a.jpg')\n",
      "('07.23.32', 'Desktop/python/jupyter/txt-b.jpg')\n",
      "('06.02.50', 'Desktop/python/jupyter/txt-c.jpg')\n",
      "('06.02.50', \"('HELLO','ADIOS','WTF')\")\n",
      "('06.02.50', \"('Desktop/python/jupyter/txt-a.jpg','Desktop/python/jupyter/txt-b.jpg','Desktop/python/jupyter/txt-c.jpg')\")\n"
     ]
    }
   ],
   "source": [
    "#SELECT some columns\n",
    "cursor.execute(\"SELECT Timestamp, img FROM Rec\")\n",
    "\n",
    "myresult = cursor.fetchall()\n",
    "\n",
    "for x in myresult:\n",
    "  print(x)"
   ]
  },
  {
   "cell_type": "code",
   "execution_count": null,
   "metadata": {},
   "outputs": [],
   "source": []
  }
 ],
 "metadata": {
  "kernelspec": {
   "display_name": "Python 3",
   "language": "python",
   "name": "python3"
  },
  "language_info": {
   "codemirror_mode": {
    "name": "ipython",
    "version": 3
   },
   "file_extension": ".py",
   "mimetype": "text/x-python",
   "name": "python",
   "nbconvert_exporter": "python",
   "pygments_lexer": "ipython3",
   "version": "3.6.8"
  }
 },
 "nbformat": 4,
 "nbformat_minor": 2
}
